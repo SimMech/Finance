{
 "cells": [
  {
   "cell_type": "markdown",
   "metadata": {},
   "source": [
    "# Amortization Example in Pandas"
   ]
  },
  {
   "cell_type": "markdown",
   "metadata": {},
   "source": [
    "Code to support article at [Practical Business Python](http://pbpython.com/amortization-model.html)"
   ]
  },
  {
   "cell_type": "markdown",
   "metadata": {},
   "source": [
    "Setup the imports and matplotlib plotting"
   ]
  },
  {
   "cell_type": "code",
   "execution_count": 1,
   "metadata": {},
   "outputs": [],
   "source": [
    "import pandas as pd\n",
    "import numpy as np\n",
    "from datetime import date\n",
    "import matplotlib.pyplot as plt\n",
    "import matplotlib"
   ]
  },
  {
   "cell_type": "code",
   "execution_count": 2,
   "metadata": {},
   "outputs": [],
   "source": [
    "%matplotlib inline"
   ]
  },
  {
   "cell_type": "code",
   "execution_count": 3,
   "metadata": {},
   "outputs": [],
   "source": [
    "matplotlib.style.use('ggplot')"
   ]
  },
  {
   "cell_type": "markdown",
   "metadata": {},
   "source": [
    "Define a function to build an amortization table/schedule and return the value as a pandas DataFrame"
   ]
  },
  {
   "cell_type": "code",
   "execution_count": 4,
   "metadata": {},
   "outputs": [],
   "source": [
    "def amortization_table(interest_rate, years, payments_year, principal, addl_principal=0, start_date=date.today()):\n",
    "    \"\"\" Calculate the amortization schedule given the loan details\n",
    "    \n",
    "     Args:\n",
    "        interest_rate: The annual interest rate for this loan\n",
    "        years: Number of years for the loan\n",
    "        payments_year: Number of payments in a year\n",
    "        principal: Amount borrowed\n",
    "        addl_principal (optional): Additional payments to be made each period. Assume 0 if nothing provided.\n",
    "                                   must be a value less then 0, the function will convert a positive value to\n",
    "                                   negative\n",
    "        start_date (optional): Start date. Will start on first of next month if none provided\n",
    "\n",
    "    Returns:\n",
    "        schedule: Amortization schedule as a pandas dataframe\n",
    "        summary: Pandas dataframe that summarizes the payoff information\n",
    "    \"\"\"\n",
    "    # Ensure the additional payments are negative\n",
    "    if addl_principal > 0:\n",
    "        addl_principal = -addl_principal\n",
    "    \n",
    "    # Create an index of the payment dates\n",
    "    rng = pd.date_range(start_date, periods=years * payments_year, freq='MS')\n",
    "    rng.name = \"Payment_Date\"\n",
    "    \n",
    "    # Build up the Amortization schedule as a DataFrame\n",
    "    df = pd.DataFrame(index=rng,columns=['Payment', 'Principal', 'Interest', \n",
    "                                         'Addl_Principal', 'Curr_Balance'], dtype='float')\n",
    "    \n",
    "    # Add index by period (start at 1 not 0)\n",
    "    df.reset_index(inplace=True)\n",
    "    df.index += 1\n",
    "    df.index.name = \"Period\"\n",
    "    \n",
    "    # Calculate the payment, principal and interests amounts using built in Numpy functions\n",
    "    per_payment = np.pmt(interest_rate/payments_year, years*payments_year, principal)\n",
    "    df[\"Payment\"] = per_payment\n",
    "    df[\"Principal\"] = np.ppmt(interest_rate/payments_year, df.index, years*payments_year, principal)\n",
    "    df[\"Interest\"] = np.ipmt(interest_rate/payments_year, df.index, years*payments_year, principal)\n",
    "        \n",
    "    # Round the values\n",
    "    df = df.round(2) \n",
    "    \n",
    "    # Add in the additional principal payments\n",
    "    df[\"Addl_Principal\"] = addl_principal\n",
    "    \n",
    "    # Store the Cumulative Principal Payments and ensure it never gets larger than the original principal\n",
    "    df[\"Cumulative_Principal\"] = (df[\"Principal\"] + df[\"Addl_Principal\"]).cumsum()\n",
    "    df[\"Cumulative_Principal\"] = df[\"Cumulative_Principal\"].clip(lower=-principal)\n",
    "    \n",
    "    # Calculate the current balance for each period\n",
    "    df[\"Curr_Balance\"] = principal + df[\"Cumulative_Principal\"]\n",
    "    \n",
    "    # Determine the last payment date\n",
    "    try:\n",
    "        last_payment = df.query(\"Curr_Balance <= 0\")[\"Curr_Balance\"].idxmax(axis=1, skipna=True)\n",
    "    except ValueError:\n",
    "        last_payment = df.last_valid_index()\n",
    "    \n",
    "    last_payment_date = \"{:%m-%d-%Y}\".format(df.loc[last_payment, \"Payment_Date\"])\n",
    "        \n",
    "    # Truncate the data frame if we have additional principal payments:\n",
    "    if addl_principal != 0:\n",
    "                \n",
    "        # Remove the extra payment periods\n",
    "        df = df.ix[0:last_payment].copy()\n",
    "        \n",
    "        # Calculate the principal for the last row\n",
    "        df.ix[last_payment, \"Principal\"] = -(df.ix[last_payment-1, \"Curr_Balance\"])\n",
    "        \n",
    "        # Calculate the total payment for the last row\n",
    "        df.ix[last_payment, \"Payment\"] = df.ix[last_payment, [\"Principal\", \"Interest\"]].sum()\n",
    "        \n",
    "        # Zero out the additional principal\n",
    "        df.ix[last_payment, \"Addl_Principal\"] = 0\n",
    "        \n",
    "    # Get the payment info into a DataFrame in column order\n",
    "    payment_info = (df[[\"Payment\", \"Principal\", \"Addl_Principal\", \"Interest\"]]\n",
    "                    .sum().to_frame().T)\n",
    "       \n",
    "    # Format the Date DataFrame\n",
    "    payment_details = pd.DataFrame.from_items([('payoff_date', [last_payment_date]),\n",
    "                                               ('Interest Rate', [interest_rate]),\n",
    "                                               ('Number of years', [years])\n",
    "                                              ])\n",
    "    # Add a column showing how much we pay each period.\n",
    "    # Combine addl principal with principal for total payment\n",
    "    payment_details[\"Period_Payment\"] = round(per_payment, 2) + addl_principal\n",
    "    \n",
    "    payment_summary = pd.concat([payment_details, payment_info], axis=1)\n",
    "    return df, payment_summary\n",
    "    "
   ]
  },
  {
   "cell_type": "markdown",
   "metadata": {},
   "source": [
    "## Examples of running the function"
   ]
  },
  {
   "cell_type": "code",
   "execution_count": 5,
   "metadata": {},
   "outputs": [
    {
     "name": "stderr",
     "output_type": "stream",
     "text": [
      "C:\\Users\\fshok\\Anaconda3\\lib\\site-packages\\ipykernel_launcher.py:84: FutureWarning: from_items is deprecated. Please use DataFrame.from_dict(dict(items), ...) instead. DataFrame.from_dict(OrderedDict(items)) may be used to preserve the key order.\n"
     ]
    }
   ],
   "source": [
    "schedule1, stats1 = amortization_table(0.05, 30, 12, 100000, addl_principal=0)"
   ]
  },
  {
   "cell_type": "markdown",
   "metadata": {},
   "source": [
    "Take a look at the start and end of the table as well as the summary stats"
   ]
  },
  {
   "cell_type": "code",
   "execution_count": 6,
   "metadata": {},
   "outputs": [
    {
     "data": {
      "text/html": [
       "<div>\n",
       "<style scoped>\n",
       "    .dataframe tbody tr th:only-of-type {\n",
       "        vertical-align: middle;\n",
       "    }\n",
       "\n",
       "    .dataframe tbody tr th {\n",
       "        vertical-align: top;\n",
       "    }\n",
       "\n",
       "    .dataframe thead th {\n",
       "        text-align: right;\n",
       "    }\n",
       "</style>\n",
       "<table border=\"1\" class=\"dataframe\">\n",
       "  <thead>\n",
       "    <tr style=\"text-align: right;\">\n",
       "      <th></th>\n",
       "      <th>Payment_Date</th>\n",
       "      <th>Payment</th>\n",
       "      <th>Principal</th>\n",
       "      <th>Interest</th>\n",
       "      <th>Addl_Principal</th>\n",
       "      <th>Curr_Balance</th>\n",
       "      <th>Cumulative_Principal</th>\n",
       "    </tr>\n",
       "    <tr>\n",
       "      <th>Period</th>\n",
       "      <th></th>\n",
       "      <th></th>\n",
       "      <th></th>\n",
       "      <th></th>\n",
       "      <th></th>\n",
       "      <th></th>\n",
       "      <th></th>\n",
       "    </tr>\n",
       "  </thead>\n",
       "  <tbody>\n",
       "    <tr>\n",
       "      <th>1</th>\n",
       "      <td>2018-12-01</td>\n",
       "      <td>-536.82</td>\n",
       "      <td>-120.15</td>\n",
       "      <td>-416.67</td>\n",
       "      <td>0</td>\n",
       "      <td>99879.85</td>\n",
       "      <td>-120.15</td>\n",
       "    </tr>\n",
       "    <tr>\n",
       "      <th>2</th>\n",
       "      <td>2019-01-01</td>\n",
       "      <td>-536.82</td>\n",
       "      <td>-120.66</td>\n",
       "      <td>-416.17</td>\n",
       "      <td>0</td>\n",
       "      <td>99759.19</td>\n",
       "      <td>-240.81</td>\n",
       "    </tr>\n",
       "    <tr>\n",
       "      <th>3</th>\n",
       "      <td>2019-02-01</td>\n",
       "      <td>-536.82</td>\n",
       "      <td>-121.16</td>\n",
       "      <td>-415.66</td>\n",
       "      <td>0</td>\n",
       "      <td>99638.03</td>\n",
       "      <td>-361.97</td>\n",
       "    </tr>\n",
       "    <tr>\n",
       "      <th>4</th>\n",
       "      <td>2019-03-01</td>\n",
       "      <td>-536.82</td>\n",
       "      <td>-121.66</td>\n",
       "      <td>-415.16</td>\n",
       "      <td>0</td>\n",
       "      <td>99516.37</td>\n",
       "      <td>-483.63</td>\n",
       "    </tr>\n",
       "    <tr>\n",
       "      <th>5</th>\n",
       "      <td>2019-04-01</td>\n",
       "      <td>-536.82</td>\n",
       "      <td>-122.17</td>\n",
       "      <td>-414.65</td>\n",
       "      <td>0</td>\n",
       "      <td>99394.20</td>\n",
       "      <td>-605.80</td>\n",
       "    </tr>\n",
       "  </tbody>\n",
       "</table>\n",
       "</div>"
      ],
      "text/plain": [
       "       Payment_Date  Payment  Principal  Interest  Addl_Principal  \\\n",
       "Period                                                              \n",
       "1        2018-12-01  -536.82    -120.15   -416.67               0   \n",
       "2        2019-01-01  -536.82    -120.66   -416.17               0   \n",
       "3        2019-02-01  -536.82    -121.16   -415.66               0   \n",
       "4        2019-03-01  -536.82    -121.66   -415.16               0   \n",
       "5        2019-04-01  -536.82    -122.17   -414.65               0   \n",
       "\n",
       "        Curr_Balance  Cumulative_Principal  \n",
       "Period                                      \n",
       "1           99879.85               -120.15  \n",
       "2           99759.19               -240.81  \n",
       "3           99638.03               -361.97  \n",
       "4           99516.37               -483.63  \n",
       "5           99394.20               -605.80  "
      ]
     },
     "execution_count": 6,
     "metadata": {},
     "output_type": "execute_result"
    }
   ],
   "source": [
    "schedule1.head()"
   ]
  },
  {
   "cell_type": "code",
   "execution_count": 7,
   "metadata": {},
   "outputs": [
    {
     "data": {
      "text/html": [
       "<div>\n",
       "<style scoped>\n",
       "    .dataframe tbody tr th:only-of-type {\n",
       "        vertical-align: middle;\n",
       "    }\n",
       "\n",
       "    .dataframe tbody tr th {\n",
       "        vertical-align: top;\n",
       "    }\n",
       "\n",
       "    .dataframe thead th {\n",
       "        text-align: right;\n",
       "    }\n",
       "</style>\n",
       "<table border=\"1\" class=\"dataframe\">\n",
       "  <thead>\n",
       "    <tr style=\"text-align: right;\">\n",
       "      <th></th>\n",
       "      <th>Payment_Date</th>\n",
       "      <th>Payment</th>\n",
       "      <th>Principal</th>\n",
       "      <th>Interest</th>\n",
       "      <th>Addl_Principal</th>\n",
       "      <th>Curr_Balance</th>\n",
       "      <th>Cumulative_Principal</th>\n",
       "    </tr>\n",
       "    <tr>\n",
       "      <th>Period</th>\n",
       "      <th></th>\n",
       "      <th></th>\n",
       "      <th></th>\n",
       "      <th></th>\n",
       "      <th></th>\n",
       "      <th></th>\n",
       "      <th></th>\n",
       "    </tr>\n",
       "  </thead>\n",
       "  <tbody>\n",
       "    <tr>\n",
       "      <th>356</th>\n",
       "      <td>2048-07-01</td>\n",
       "      <td>-536.82</td>\n",
       "      <td>-525.78</td>\n",
       "      <td>-11.05</td>\n",
       "      <td>0</td>\n",
       "      <td>2125.09</td>\n",
       "      <td>-97874.91</td>\n",
       "    </tr>\n",
       "    <tr>\n",
       "      <th>357</th>\n",
       "      <td>2048-08-01</td>\n",
       "      <td>-536.82</td>\n",
       "      <td>-527.97</td>\n",
       "      <td>-8.85</td>\n",
       "      <td>0</td>\n",
       "      <td>1597.12</td>\n",
       "      <td>-98402.88</td>\n",
       "    </tr>\n",
       "    <tr>\n",
       "      <th>358</th>\n",
       "      <td>2048-09-01</td>\n",
       "      <td>-536.82</td>\n",
       "      <td>-530.17</td>\n",
       "      <td>-6.65</td>\n",
       "      <td>0</td>\n",
       "      <td>1066.95</td>\n",
       "      <td>-98933.05</td>\n",
       "    </tr>\n",
       "    <tr>\n",
       "      <th>359</th>\n",
       "      <td>2048-10-01</td>\n",
       "      <td>-536.82</td>\n",
       "      <td>-532.38</td>\n",
       "      <td>-4.45</td>\n",
       "      <td>0</td>\n",
       "      <td>534.57</td>\n",
       "      <td>-99465.43</td>\n",
       "    </tr>\n",
       "    <tr>\n",
       "      <th>360</th>\n",
       "      <td>2048-11-01</td>\n",
       "      <td>-536.82</td>\n",
       "      <td>-534.59</td>\n",
       "      <td>-2.23</td>\n",
       "      <td>0</td>\n",
       "      <td>0.00</td>\n",
       "      <td>-100000.00</td>\n",
       "    </tr>\n",
       "  </tbody>\n",
       "</table>\n",
       "</div>"
      ],
      "text/plain": [
       "       Payment_Date  Payment  Principal  Interest  Addl_Principal  \\\n",
       "Period                                                              \n",
       "356      2048-07-01  -536.82    -525.78    -11.05               0   \n",
       "357      2048-08-01  -536.82    -527.97     -8.85               0   \n",
       "358      2048-09-01  -536.82    -530.17     -6.65               0   \n",
       "359      2048-10-01  -536.82    -532.38     -4.45               0   \n",
       "360      2048-11-01  -536.82    -534.59     -2.23               0   \n",
       "\n",
       "        Curr_Balance  Cumulative_Principal  \n",
       "Period                                      \n",
       "356          2125.09             -97874.91  \n",
       "357          1597.12             -98402.88  \n",
       "358          1066.95             -98933.05  \n",
       "359           534.57             -99465.43  \n",
       "360             0.00            -100000.00  "
      ]
     },
     "execution_count": 7,
     "metadata": {},
     "output_type": "execute_result"
    }
   ],
   "source": [
    "schedule1.tail()"
   ]
  },
  {
   "cell_type": "code",
   "execution_count": 8,
   "metadata": {},
   "outputs": [
    {
     "data": {
      "text/html": [
       "<div>\n",
       "<style scoped>\n",
       "    .dataframe tbody tr th:only-of-type {\n",
       "        vertical-align: middle;\n",
       "    }\n",
       "\n",
       "    .dataframe tbody tr th {\n",
       "        vertical-align: top;\n",
       "    }\n",
       "\n",
       "    .dataframe thead th {\n",
       "        text-align: right;\n",
       "    }\n",
       "</style>\n",
       "<table border=\"1\" class=\"dataframe\">\n",
       "  <thead>\n",
       "    <tr style=\"text-align: right;\">\n",
       "      <th></th>\n",
       "      <th>payoff_date</th>\n",
       "      <th>Interest Rate</th>\n",
       "      <th>Number of years</th>\n",
       "      <th>Period_Payment</th>\n",
       "      <th>Payment</th>\n",
       "      <th>Principal</th>\n",
       "      <th>Addl_Principal</th>\n",
       "      <th>Interest</th>\n",
       "    </tr>\n",
       "  </thead>\n",
       "  <tbody>\n",
       "    <tr>\n",
       "      <th>0</th>\n",
       "      <td>11-01-2048</td>\n",
       "      <td>0.05</td>\n",
       "      <td>30</td>\n",
       "      <td>-536.82</td>\n",
       "      <td>-193255.2</td>\n",
       "      <td>-100000.02</td>\n",
       "      <td>0.0</td>\n",
       "      <td>-93255.69</td>\n",
       "    </tr>\n",
       "  </tbody>\n",
       "</table>\n",
       "</div>"
      ],
      "text/plain": [
       "  payoff_date  Interest Rate  Number of years  Period_Payment   Payment  \\\n",
       "0  11-01-2048           0.05               30         -536.82 -193255.2   \n",
       "\n",
       "   Principal  Addl_Principal  Interest  \n",
       "0 -100000.02             0.0 -93255.69  "
      ]
     },
     "execution_count": 8,
     "metadata": {},
     "output_type": "execute_result"
    }
   ],
   "source": [
    "stats1"
   ]
  },
  {
   "cell_type": "markdown",
   "metadata": {},
   "source": [
    "Try running some other scenarios and combining them into a single DataFrame"
   ]
  },
  {
   "cell_type": "code",
   "execution_count": 9,
   "metadata": {},
   "outputs": [
    {
     "name": "stderr",
     "output_type": "stream",
     "text": [
      "C:\\Users\\fshok\\Anaconda3\\lib\\site-packages\\ipykernel_launcher.py:66: DeprecationWarning: \n",
      ".ix is deprecated. Please use\n",
      ".loc for label based indexing or\n",
      ".iloc for positional indexing\n",
      "\n",
      "See the documentation here:\n",
      "http://pandas.pydata.org/pandas-docs/stable/indexing.html#ix-indexer-is-deprecated\n",
      "C:\\Users\\fshok\\Anaconda3\\lib\\site-packages\\ipykernel_launcher.py:69: DeprecationWarning: \n",
      ".ix is deprecated. Please use\n",
      ".loc for label based indexing or\n",
      ".iloc for positional indexing\n",
      "\n",
      "See the documentation here:\n",
      "http://pandas.pydata.org/pandas-docs/stable/indexing.html#ix-indexer-is-deprecated\n",
      "C:\\Users\\fshok\\Anaconda3\\lib\\site-packages\\ipykernel_launcher.py:72: DeprecationWarning: \n",
      ".ix is deprecated. Please use\n",
      ".loc for label based indexing or\n",
      ".iloc for positional indexing\n",
      "\n",
      "See the documentation here:\n",
      "http://pandas.pydata.org/pandas-docs/stable/indexing.html#ix-indexer-is-deprecated\n",
      "C:\\Users\\fshok\\Anaconda3\\lib\\site-packages\\ipykernel_launcher.py:75: DeprecationWarning: \n",
      ".ix is deprecated. Please use\n",
      ".loc for label based indexing or\n",
      ".iloc for positional indexing\n",
      "\n",
      "See the documentation here:\n",
      "http://pandas.pydata.org/pandas-docs/stable/indexing.html#ix-indexer-is-deprecated\n",
      "C:\\Users\\fshok\\Anaconda3\\lib\\site-packages\\ipykernel_launcher.py:84: FutureWarning: from_items is deprecated. Please use DataFrame.from_dict(dict(items), ...) instead. DataFrame.from_dict(OrderedDict(items)) may be used to preserve the key order.\n"
     ]
    }
   ],
   "source": [
    "schedule2, stats2 = amortization_table(0.05, 30, 12, 100000, addl_principal=-200)\n",
    "schedule3, stats3 = amortization_table(0.04, 15, 12, 100000, addl_principal=0)"
   ]
  },
  {
   "cell_type": "code",
   "execution_count": 10,
   "metadata": {},
   "outputs": [
    {
     "data": {
      "text/html": [
       "<div>\n",
       "<style scoped>\n",
       "    .dataframe tbody tr th:only-of-type {\n",
       "        vertical-align: middle;\n",
       "    }\n",
       "\n",
       "    .dataframe tbody tr th {\n",
       "        vertical-align: top;\n",
       "    }\n",
       "\n",
       "    .dataframe thead th {\n",
       "        text-align: right;\n",
       "    }\n",
       "</style>\n",
       "<table border=\"1\" class=\"dataframe\">\n",
       "  <thead>\n",
       "    <tr style=\"text-align: right;\">\n",
       "      <th></th>\n",
       "      <th>payoff_date</th>\n",
       "      <th>Interest Rate</th>\n",
       "      <th>Number of years</th>\n",
       "      <th>Period_Payment</th>\n",
       "      <th>Payment</th>\n",
       "      <th>Principal</th>\n",
       "      <th>Addl_Principal</th>\n",
       "      <th>Interest</th>\n",
       "    </tr>\n",
       "  </thead>\n",
       "  <tbody>\n",
       "    <tr>\n",
       "      <th>0</th>\n",
       "      <td>11-01-2048</td>\n",
       "      <td>0.05</td>\n",
       "      <td>30</td>\n",
       "      <td>-536.82</td>\n",
       "      <td>-193255.20</td>\n",
       "      <td>-100000.02</td>\n",
       "      <td>0.0</td>\n",
       "      <td>-93255.69</td>\n",
       "    </tr>\n",
       "    <tr>\n",
       "      <th>1</th>\n",
       "      <td>04-01-2039</td>\n",
       "      <td>0.05</td>\n",
       "      <td>30</td>\n",
       "      <td>-736.82</td>\n",
       "      <td>-131689.78</td>\n",
       "      <td>-51200.00</td>\n",
       "      <td>-48800.0</td>\n",
       "      <td>-80490.16</td>\n",
       "    </tr>\n",
       "    <tr>\n",
       "      <th>2</th>\n",
       "      <td>11-01-2033</td>\n",
       "      <td>0.04</td>\n",
       "      <td>15</td>\n",
       "      <td>-739.69</td>\n",
       "      <td>-133144.20</td>\n",
       "      <td>-100000.03</td>\n",
       "      <td>0.0</td>\n",
       "      <td>-33143.85</td>\n",
       "    </tr>\n",
       "  </tbody>\n",
       "</table>\n",
       "</div>"
      ],
      "text/plain": [
       "  payoff_date  Interest Rate  Number of years  Period_Payment    Payment  \\\n",
       "0  11-01-2048           0.05               30         -536.82 -193255.20   \n",
       "1  04-01-2039           0.05               30         -736.82 -131689.78   \n",
       "2  11-01-2033           0.04               15         -739.69 -133144.20   \n",
       "\n",
       "   Principal  Addl_Principal  Interest  \n",
       "0 -100000.02             0.0 -93255.69  \n",
       "1  -51200.00        -48800.0 -80490.16  \n",
       "2 -100000.03             0.0 -33143.85  "
      ]
     },
     "execution_count": 10,
     "metadata": {},
     "output_type": "execute_result"
    }
   ],
   "source": [
    "# Combine all the scenarios into 1 view\n",
    "pd.concat([stats1, stats2, stats3], ignore_index=True)"
   ]
  },
  {
   "cell_type": "code",
   "execution_count": 11,
   "metadata": {},
   "outputs": [
    {
     "data": {
      "text/html": [
       "<div>\n",
       "<style scoped>\n",
       "    .dataframe tbody tr th:only-of-type {\n",
       "        vertical-align: middle;\n",
       "    }\n",
       "\n",
       "    .dataframe tbody tr th {\n",
       "        vertical-align: top;\n",
       "    }\n",
       "\n",
       "    .dataframe thead th {\n",
       "        text-align: right;\n",
       "    }\n",
       "</style>\n",
       "<table border=\"1\" class=\"dataframe\">\n",
       "  <thead>\n",
       "    <tr style=\"text-align: right;\">\n",
       "      <th></th>\n",
       "      <th>Payment_Date</th>\n",
       "      <th>Payment</th>\n",
       "      <th>Principal</th>\n",
       "      <th>Interest</th>\n",
       "      <th>Addl_Principal</th>\n",
       "      <th>Curr_Balance</th>\n",
       "      <th>Cumulative_Principal</th>\n",
       "    </tr>\n",
       "    <tr>\n",
       "      <th>Period</th>\n",
       "      <th></th>\n",
       "      <th></th>\n",
       "      <th></th>\n",
       "      <th></th>\n",
       "      <th></th>\n",
       "      <th></th>\n",
       "      <th></th>\n",
       "    </tr>\n",
       "  </thead>\n",
       "  <tbody>\n",
       "    <tr>\n",
       "      <th>1</th>\n",
       "      <td>2018-12-01</td>\n",
       "      <td>-739.69</td>\n",
       "      <td>-406.35</td>\n",
       "      <td>-333.33</td>\n",
       "      <td>0</td>\n",
       "      <td>99593.65</td>\n",
       "      <td>-406.35</td>\n",
       "    </tr>\n",
       "    <tr>\n",
       "      <th>2</th>\n",
       "      <td>2019-01-01</td>\n",
       "      <td>-739.69</td>\n",
       "      <td>-407.71</td>\n",
       "      <td>-331.98</td>\n",
       "      <td>0</td>\n",
       "      <td>99185.94</td>\n",
       "      <td>-814.06</td>\n",
       "    </tr>\n",
       "    <tr>\n",
       "      <th>3</th>\n",
       "      <td>2019-02-01</td>\n",
       "      <td>-739.69</td>\n",
       "      <td>-409.07</td>\n",
       "      <td>-330.62</td>\n",
       "      <td>0</td>\n",
       "      <td>98776.87</td>\n",
       "      <td>-1223.13</td>\n",
       "    </tr>\n",
       "    <tr>\n",
       "      <th>4</th>\n",
       "      <td>2019-03-01</td>\n",
       "      <td>-739.69</td>\n",
       "      <td>-410.43</td>\n",
       "      <td>-329.26</td>\n",
       "      <td>0</td>\n",
       "      <td>98366.44</td>\n",
       "      <td>-1633.56</td>\n",
       "    </tr>\n",
       "    <tr>\n",
       "      <th>5</th>\n",
       "      <td>2019-04-01</td>\n",
       "      <td>-739.69</td>\n",
       "      <td>-411.80</td>\n",
       "      <td>-327.89</td>\n",
       "      <td>0</td>\n",
       "      <td>97954.64</td>\n",
       "      <td>-2045.36</td>\n",
       "    </tr>\n",
       "  </tbody>\n",
       "</table>\n",
       "</div>"
      ],
      "text/plain": [
       "       Payment_Date  Payment  Principal  Interest  Addl_Principal  \\\n",
       "Period                                                              \n",
       "1        2018-12-01  -739.69    -406.35   -333.33               0   \n",
       "2        2019-01-01  -739.69    -407.71   -331.98               0   \n",
       "3        2019-02-01  -739.69    -409.07   -330.62               0   \n",
       "4        2019-03-01  -739.69    -410.43   -329.26               0   \n",
       "5        2019-04-01  -739.69    -411.80   -327.89               0   \n",
       "\n",
       "        Curr_Balance  Cumulative_Principal  \n",
       "Period                                      \n",
       "1           99593.65               -406.35  \n",
       "2           99185.94               -814.06  \n",
       "3           98776.87              -1223.13  \n",
       "4           98366.44              -1633.56  \n",
       "5           97954.64              -2045.36  "
      ]
     },
     "execution_count": 11,
     "metadata": {},
     "output_type": "execute_result"
    }
   ],
   "source": [
    "schedule3.head()"
   ]
  },
  {
   "cell_type": "markdown",
   "metadata": {},
   "source": [
    "## Examples of plotting the data"
   ]
  },
  {
   "cell_type": "code",
   "execution_count": 12,
   "metadata": {},
   "outputs": [
    {
     "data": {
      "image/png": "[encoded data removed]",
      "text/plain": [
       "<Figure size 432x288 with 1 Axes>"
      ]
     },
     "metadata": {},
     "output_type": "display_data"
    }
   ],
   "source": [
    "schedule1.plot(x='Payment_Date', y='Curr_Balance', title=\"Pay Off Timeline\");"
   ]
  },
  {
   "cell_type": "code",
   "execution_count": 13,
   "metadata": {},
   "outputs": [
    {
     "data": {
      "image/png": "[encoded data removed]",
      "text/plain": [
       "<Figure size 432x288 with 1 Axes>"
      ]
     },
     "metadata": {},
     "output_type": "display_data"
    }
   ],
   "source": [
    "fig, ax = plt.subplots(1, 1)\n",
    "schedule1.plot(x='Payment_Date', y='Curr_Balance', label=\"Scenario 1\", ax=ax)\n",
    "schedule2.plot(x='Payment_Date', y='Curr_Balance', label=\"Scenario 2\", ax=ax)\n",
    "schedule3.plot(x='Payment_Date', y='Curr_Balance', label=\"Scenario 3\", ax=ax)\n",
    "plt.title(\"Pay Off Timelines\");"
   ]
  },
  {
   "cell_type": "code",
   "execution_count": 14,
   "metadata": {},
   "outputs": [
    {
     "data": {
      "image/png": "[encoded data removed]",
      "text/plain": [
       "<Figure size 432x288 with 1 Axes>"
      ]
     },
     "metadata": {},
     "output_type": "display_data"
    }
   ],
   "source": [
    "schedule1[\"Cum_Interest\"] = schedule1[\"Interest\"].abs().cumsum()\n",
    "schedule2[\"Cum_Interest\"] = schedule2[\"Interest\"].abs().cumsum()\n",
    "schedule3[\"Cum_Interest\"] = schedule3[\"Interest\"].abs().cumsum()\n",
    "\n",
    "fig, ax = plt.subplots(1, 1)\n",
    "\n",
    "\n",
    "schedule1.plot(x='Payment_Date', y='Cum_Interest', label=\"Scenario 1\", ax=ax)\n",
    "schedule2.plot(x='Payment_Date', y='Cum_Interest', label=\"Scenario 2\", ax=ax, style='+')\n",
    "schedule3.plot(x='Payment_Date', y='Cum_Interest', label=\"Scenario 3\", ax=ax)\n",
    "\n",
    "ax.legend(loc=\"best\");"
   ]
  },
  {
   "cell_type": "code",
   "execution_count": 15,
   "metadata": {},
   "outputs": [
    {
     "data": {
      "image/png": "[encoded data removed]",
      "text/plain": [
       "<Figure size 432x288 with 1 Axes>"
      ]
     },
     "metadata": {},
     "output_type": "display_data"
    }
   ],
   "source": [
    "fig, ax = plt.subplots(1, 1)\n",
    "\n",
    "y1_schedule = schedule1.set_index('Payment_Date').resample(\"A\")[\"Interest\"].sum().abs().reset_index()\n",
    "y1_schedule[\"Year\"] = y1_schedule[\"Payment_Date\"].dt.year\n",
    "y1_schedule.plot(kind=\"bar\", x=\"Year\", y=\"Interest\", ax=ax, label=\"30 Years @ 5%\")\n",
    "\n",
    "plt.title(\"Interest Payments\");"
   ]
  }
 ],
 "metadata": {
  "kernelspec": {
   "display_name": "Python 3",
   "language": "python",
   "name": "python3"
  },
  "language_info": {
   "codemirror_mode": {
    "name": "ipython",
    "version": 3
   },
   "file_extension": ".py",
   "mimetype": "text/x-python",
   "name": "python",
   "nbconvert_exporter": "python",
   "pygments_lexer": "ipython3",
   "version": "3.7.0"
  }
 },
 "nbformat": 4,
 "nbformat_minor": 1
}
